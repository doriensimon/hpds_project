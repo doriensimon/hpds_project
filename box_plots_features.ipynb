{
 "cells": [
  {
   "cell_type": "code",
   "execution_count": 1,
   "metadata": {},
   "outputs": [],
   "source": [
    "import matplotlib as mpl\n",
    "import matplotlib.pyplot as plt\n",
    "import pandas as pd\n",
    "import os\n",
    "import numpy as np\n",
    "%matplotlib inline\n",
    "import seaborn as sns\n",
    "import math\n",
    "import plotly.express as px"
   ]
  },
  {
   "cell_type": "code",
   "execution_count": 2,
   "metadata": {
    "scrolled": true
   },
   "outputs": [],
   "source": [
    "data = pd.DataFrame()\n",
    "count = 0\n",
    "for filename in os.listdir(\"Archive\"):\n",
    "    if count == 313:\n",
    "        break\n",
    "    if \"era\" in filename:\n",
    "        next_data = pd.read_csv(\"Archive/\" + str(filename), delimiter=\"\\t\")\n",
    "        data = pd.concat([data, next_data])\n",
    "        count += 1\n",
    "data[\"Event.Nr\"] = np.arange(1, 314, 1)\n",
    "data = data.rename(columns={'Event.Nr': 'participant'})\n",
    "data = data.reset_index(drop=True)"
   ]
  },
  {
   "cell_type": "code",
   "execution_count": 3,
   "metadata": {},
   "outputs": [],
   "source": [
    "study_conditions = pd.read_csv(\"pred_well_states/study-conditions.csv\")\n",
    "study_conditions[\"participant\"] = np.arange(1, 314, 1)"
   ]
  },
  {
   "cell_type": "code",
   "execution_count": 4,
   "metadata": {},
   "outputs": [],
   "source": [
    "study_conditions[\"participant\"] = np.arange(1, 314, 1)\n",
    "combined_df = pd.merge(study_conditions, data, on=['participant'])"
   ]
  },
  {
   "cell_type": "code",
   "execution_count": 5,
   "metadata": {
    "scrolled": false
   },
   "outputs": [],
   "source": [
    "features_list = combined_df.columns[4:16]"
   ]
  },
  {
   "cell_type": "code",
   "execution_count": 6,
   "metadata": {},
   "outputs": [],
   "source": [
    "def make_feature_list(feature, room):\n",
    "    result = []\n",
    "    art_df = combined_df[combined_df.materials == \"Artificial\"]\n",
    "    art_df_335 = art_df[art_df.room == room]\n",
    "    feature_art = art_df_335[str(feature)].tolist()\n",
    "    result.append(feature_art)\n",
    "    \n",
    "    nat_df = combined_df[combined_df.materials == \"Natural\"]\n",
    "    nat_df_335 = nat_df[nat_df.room == room]\n",
    "    feature_nat = nat_df_335[str(feature)].tolist()\n",
    "    result.append(feature_nat)\n",
    "    \n",
    "    div_df = combined_df[combined_df.diversity == \"Diverse\"]\n",
    "    div_df_335 = div_df[div_df.room == room]\n",
    "    feature_div = div_df_335[str(feature)].tolist()\n",
    "    result.append(feature_div)\n",
    "    \n",
    "    nond_df = combined_df[combined_df.diversity == \"Non-Diverse\"]\n",
    "    nond_df_335 = nond_df[nond_df.room == room]\n",
    "    feature_nond = nond_df_335[str(feature)].tolist()\n",
    "    result.append(feature_nond)\n",
    "    return result"
   ]
  },
  {
   "cell_type": "code",
   "execution_count": 8,
   "metadata": {
    "scrolled": true
   },
   "outputs": [
    {
     "data": {
      "image/png": "[encoded data removed]",
      "text/plain": [
       "<Figure size 432x288 with 1 Axes>"
      ]
     },
     "metadata": {
      "needs_background": "light"
     },
     "output_type": "display_data"
    },
    {
     "name": "stdout",
     "output_type": "stream",
     "text": [
      "medians\n",
      "Artificial: 41.0\n",
      "Natural: 43.0\n",
      "Diverse: 45.0\n",
      "Non-Diverse: 34.0\n"
     ]
    }
   ],
   "source": [
    "CDA_nSCR = make_feature_list('CDA.nSCR', 335)\n",
    "plt.boxplot(CDA_nSCR, showfliers=False)\n",
    "plt.xlabel('Condition')\n",
    "plt.ylabel('CDA_nSCR')\n",
    "plt.xticks(np.arange(1, 5, 1), (\"Artificial\", \"Natural\", \"Diverse\", \"Non-Diverse\"))\n",
    "plt.show()\n",
    "print(\"medians\")\n",
    "condition_list = [\"Artificial\", \"Natural\", \"Diverse\", \"Non-Diverse\"]\n",
    "for i in range(len(CDA_nSCR)):\n",
    "    print(str(condition_list[i]) + \": \" + str(np.median(CDA_nSCR[i])))"
   ]
  },
  {
   "cell_type": "code",
   "execution_count": 9,
   "metadata": {},
   "outputs": [
    {
     "data": {
      "image/png": "[encoded data removed]",
      "text/plain": [
       "<Figure size 432x288 with 1 Axes>"
      ]
     },
     "metadata": {
      "needs_background": "light"
     },
     "output_type": "display_data"
    },
    {
     "name": "stdout",
     "output_type": "stream",
     "text": [
      "medians\n",
      "Artificial: 3.7195\n",
      "Natural: 4.2115\n",
      "Diverse: 4.2136\n",
      "Non-Diverse: 4.1689\n"
     ]
    }
   ],
   "source": [
    "CDA_AmpSum = make_feature_list('CDA.AmpSum', 335)\n",
    "plt.boxplot(CDA_AmpSum, showfliers=False)\n",
    "plt.xlabel('Condition')\n",
    "plt.ylabel('CDA_AmpSum')\n",
    "plt.xticks(np.arange(1, 5, 1), (\"Artificial\", \"Natural\", \"Diverse\", \"Non-Diverse\"))\n",
    "plt.show()\n",
    "print(\"medians\")\n",
    "condition_list = [\"Artificial\", \"Natural\", \"Diverse\", \"Non-Diverse\"]\n",
    "for i in range(len(CDA_AmpSum)):\n",
    "    print(str(condition_list[i]) + \": \" + str(np.median(CDA_AmpSum[i])))"
   ]
  },
  {
   "cell_type": "code",
   "execution_count": 10,
   "metadata": {},
   "outputs": [
    {
     "data": {
      "image/png": "[encoded data removed]",
      "text/plain": [
       "<Figure size 432x288 with 1 Axes>"
      ]
     },
     "metadata": {
      "needs_background": "light"
     },
     "output_type": "display_data"
    },
    {
     "name": "stdout",
     "output_type": "stream",
     "text": [
      "medians\n",
      "Artificial: 0.006\n",
      "Natural: 0.0054\n",
      "Diverse: 0.0056\n",
      "Non-Diverse: 0.0054\n"
     ]
    }
   ],
   "source": [
    "CDA_SCR = make_feature_list('CDA.SCR', 335)\n",
    "plt.boxplot(CDA_SCR, showfliers=False)\n",
    "plt.xlabel('Condition')\n",
    "plt.ylabel('CDA_SCR')\n",
    "plt.xticks(np.arange(1, 5, 1), (\"Artificial\", \"Natural\", \"Diverse\", \"Non-Diverse\"))\n",
    "plt.show()\n",
    "print(\"medians\")\n",
    "condition_list = [\"Artificial\", \"Natural\", \"Diverse\", \"Non-Diverse\"]\n",
    "for i in range(len(CDA_SCR)):\n",
    "    print(str(condition_list[i]) + \": \" + str(np.median(CDA_SCR[i])))"
   ]
  },
  {
   "cell_type": "code",
   "execution_count": 11,
   "metadata": {},
   "outputs": [
    {
     "data": {
      "image/png": "[encoded data removed]",
      "text/plain": [
       "<Figure size 432x288 with 1 Axes>"
      ]
     },
     "metadata": {
      "needs_background": "light"
     },
     "output_type": "display_data"
    },
    {
     "name": "stdout",
     "output_type": "stream",
     "text": [
      "medians\n",
      "Artificial: 28.7339\n",
      "Natural: 25.825200000000002\n",
      "Diverse: 26.8221\n",
      "Non-Diverse: 25.8529\n"
     ]
    }
   ],
   "source": [
    "CDA_ISCR = make_feature_list('CDA.ISCR', 335)\n",
    "plt.boxplot(CDA_ISCR, showfliers=False)\n",
    "plt.xlabel('Condition')\n",
    "plt.ylabel('CDA_ISCR')\n",
    "plt.xticks(np.arange(1, 5, 1), (\"Artificial\", \"Natural\", \"Diverse\", \"Non-Diverse\"))\n",
    "plt.show()\n",
    "print(\"medians\")\n",
    "condition_list = [\"Artificial\", \"Natural\", \"Diverse\", \"Non-Diverse\"]\n",
    "for i in range(len(CDA_ISCR)):\n",
    "    print(str(condition_list[i]) + \": \" + str(np.median(CDA_ISCR[i])))"
   ]
  },
  {
   "cell_type": "code",
   "execution_count": 12,
   "metadata": {},
   "outputs": [
    {
     "data": {
      "image/png": "[encoded data removed]",
      "text/plain": [
       "<Figure size 432x288 with 1 Axes>"
      ]
     },
     "metadata": {
      "needs_background": "light"
     },
     "output_type": "display_data"
    },
    {
     "name": "stdout",
     "output_type": "stream",
     "text": [
      "medians\n",
      "Artificial: 1.4198499999999998\n",
      "Natural: 1.68075\n",
      "Diverse: 1.4715\n",
      "Non-Diverse: 1.5296\n"
     ]
    }
   ],
   "source": [
    "CDA_PhasicMax = make_feature_list('CDA.PhasicMax', 335)\n",
    "plt.boxplot(CDA_PhasicMax, showfliers=False)\n",
    "plt.xlabel('Condition')\n",
    "plt.ylabel('CDA_PhasicMax')\n",
    "plt.xticks(np.arange(1, 5, 1), (\"Artificial\", \"Natural\", \"Diverse\", \"Non-Diverse\"))\n",
    "plt.show()\n",
    "print(\"medians\")\n",
    "condition_list = [\"Artificial\", \"Natural\", \"Diverse\", \"Non-Diverse\"]\n",
    "for i in range(len(CDA_PhasicMax)):\n",
    "    print(str(condition_list[i]) + \": \" + str(np.median(CDA_PhasicMax[i])))"
   ]
  },
  {
   "cell_type": "code",
   "execution_count": 13,
   "metadata": {},
   "outputs": [
    {
     "data": {
      "image/png": "[encoded data removed]",
      "text/plain": [
       "<Figure size 432x288 with 1 Axes>"
      ]
     },
     "metadata": {
      "needs_background": "light"
     },
     "output_type": "display_data"
    },
    {
     "name": "stdout",
     "output_type": "stream",
     "text": [
      "medians\n",
      "Artificial: 0.3061\n",
      "Natural: 0.32220000000000004\n",
      "Diverse: 0.3425\n",
      "Non-Diverse: 0.3054\n"
     ]
    }
   ],
   "source": [
    "CDA_Tonic = make_feature_list('CDA.Tonic', 335)\n",
    "plt.boxplot(CDA_Tonic, showfliers=False)\n",
    "plt.xlabel('Condition')\n",
    "plt.ylabel('CDA_Tonic')\n",
    "plt.xticks(np.arange(1, 5, 1), (\"Artificial\", \"Natural\", \"Diverse\", \"Non-Diverse\"))\n",
    "plt.show()\n",
    "print(\"medians\")\n",
    "condition_list = [\"Artificial\", \"Natural\", \"Diverse\", \"Non-Diverse\"]\n",
    "for i in range(len(CDA_Tonic)):\n",
    "    print(str(condition_list[i]) + \": \" + str(np.median(CDA_Tonic[i])))"
   ]
  },
  {
   "cell_type": "code",
   "execution_count": 14,
   "metadata": {},
   "outputs": [
    {
     "data": {
      "image/png": "[encoded data removed]",
      "text/plain": [
       "<Figure size 432x288 with 1 Axes>"
      ]
     },
     "metadata": {
      "needs_background": "light"
     },
     "output_type": "display_data"
    },
    {
     "name": "stdout",
     "output_type": "stream",
     "text": [
      "medians\n",
      "Artificial: 18.5\n",
      "Natural: 16.5\n",
      "Diverse: 20.0\n",
      "Non-Diverse: 16.0\n"
     ]
    }
   ],
   "source": [
    "TTP_nSCR = make_feature_list('TTP.nSCR', 335)\n",
    "plt.boxplot(TTP_nSCR, showfliers=False)\n",
    "plt.xlabel('Condition')\n",
    "plt.ylabel('TTP_nSCR')\n",
    "plt.xticks(np.arange(1, 5, 1), (\"Artificial\", \"Natural\", \"Diverse\", \"Non-Diverse\"))\n",
    "plt.show()\n",
    "print(\"medians\")\n",
    "condition_list = [\"Artificial\", \"Natural\", \"Diverse\", \"Non-Diverse\"]\n",
    "for i in range(len(TTP_nSCR)):\n",
    "    print(str(condition_list[i]) + \": \" + str(np.median(TTP_nSCR[i])))"
   ]
  },
  {
   "cell_type": "code",
   "execution_count": 15,
   "metadata": {},
   "outputs": [
    {
     "data": {
      "image/png": "[encoded data removed]",
      "text/plain": [
       "<Figure size 432x288 with 1 Axes>"
      ]
     },
     "metadata": {
      "needs_background": "light"
     },
     "output_type": "display_data"
    },
    {
     "name": "stdout",
     "output_type": "stream",
     "text": [
      "medians\n",
      "Artificial: 18.5\n",
      "Natural: 16.5\n",
      "Diverse: 20.0\n",
      "Non-Diverse: 16.0\n"
     ]
    }
   ],
   "source": [
    "TTP_AmpSum = make_feature_list('TTP.AmpSum', 335)\n",
    "plt.boxplot(TTP_AmpSum, showfliers=False)\n",
    "plt.xlabel('Condition')\n",
    "plt.ylabel('TTP_AmpSum')\n",
    "plt.xticks(np.arange(1, 5, 1), (\"Artificial\", \"Natural\", \"Diverse\", \"Non-Diverse\"))\n",
    "plt.show()\n",
    "print(\"medians\")\n",
    "condition_list = [\"Artificial\", \"Natural\", \"Diverse\", \"Non-Diverse\"]\n",
    "for i in range(len(TTP_nSCR)):\n",
    "    print(str(condition_list[i]) + \": \" + str(np.median(TTP_nSCR[i])))"
   ]
  },
  {
   "cell_type": "code",
   "execution_count": 16,
   "metadata": {},
   "outputs": [
    {
     "data": {
      "image/png": "[encoded data removed]",
      "text/plain": [
       "<Figure size 432x288 with 1 Axes>"
      ]
     },
     "metadata": {
      "needs_background": "light"
     },
     "output_type": "display_data"
    },
    {
     "name": "stdout",
     "output_type": "stream",
     "text": [
      "medians\n",
      "Artificial: 41.0\n",
      "Natural: 43.0\n",
      "Diverse: 45.0\n",
      "Non-Diverse: 34.0\n"
     ]
    }
   ],
   "source": [
    "global_mean = make_feature_list('Global.Mean', 335)\n",
    "plt.boxplot(global_mean, showfliers=False)\n",
    "plt.xlabel('Condition')\n",
    "plt.ylabel('global_mean')\n",
    "plt.xticks(np.arange(1, 5, 1), (\"Artificial\", \"Natural\", \"Diverse\", \"Non-Diverse\"))\n",
    "plt.show()\n",
    "print(\"medians\")\n",
    "condition_list = [\"Artificial\", \"Natural\", \"Diverse\", \"Non-Diverse\"]\n",
    "for i in range(len(CDA_nSCR)):\n",
    "    print(str(condition_list[i]) + \": \" + str(np.median(CDA_nSCR[i])))"
   ]
  },
  {
   "cell_type": "code",
   "execution_count": 17,
   "metadata": {
    "scrolled": true
   },
   "outputs": [
    {
     "data": {
      "image/png": "[encoded data removed]",
      "text/plain": [
       "<Figure size 432x288 with 1 Axes>"
      ]
     },
     "metadata": {
      "needs_background": "light"
     },
     "output_type": "display_data"
    },
    {
     "name": "stdout",
     "output_type": "stream",
     "text": [
      "medians\n",
      "Artificial: 0.59895\n",
      "Natural: 0.77155\n",
      "Diverse: 0.794\n",
      "Non-Diverse: 0.6178\n"
     ]
    }
   ],
   "source": [
    "global_max_def = make_feature_list('Global.MaxDeflection', 335)\n",
    "plt.boxplot(global_max_def, showfliers=False)\n",
    "plt.xlabel('Condition')\n",
    "plt.ylabel('global_max')\n",
    "plt.xticks(np.arange(1, 5, 1), (\"Artificial\", \"Natural\", \"Diverse\", \"Non-Diverse\"))\n",
    "plt.show()\n",
    "print(\"medians\")\n",
    "condition_list = [\"Artificial\", \"Natural\", \"Diverse\", \"Non-Diverse\"]\n",
    "for i in range(len(global_max_def)):\n",
    "    print(str(condition_list[i]) + \": \" + str(np.median(global_max_def[i])))"
   ]
  }
 ],
 "metadata": {
  "kernelspec": {
   "display_name": "Python 3",
   "language": "python",
   "name": "python3"
  },
  "language_info": {
   "codemirror_mode": {
    "name": "ipython",
    "version": 3
   },
   "file_extension": ".py",
   "mimetype": "text/x-python",
   "name": "python",
   "nbconvert_exporter": "python",
   "pygments_lexer": "ipython3",
   "version": "3.7.3"
  }
 },
 "nbformat": 4,
 "nbformat_minor": 2
}
